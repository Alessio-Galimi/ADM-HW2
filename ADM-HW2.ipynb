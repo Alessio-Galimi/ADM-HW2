{
 "cells": [
  {
   "cell_type": "code",
   "execution_count": 3,
   "metadata": {},
   "outputs": [],
   "source": [
    "import numpy as np \n",
    "import pandas as pd \n",
    "import gc\n",
    "import matplotlib.pyplot as plt\n",
    "import seaborn as sns"
   ]
  },
  {
   "cell_type": "markdown",
   "metadata": {},
   "source": [
    "#### <font color='darkblue'> Doing these exercises, we had to be very careful about managing the RAM of our personal computers. We had to run this code with the 8gb RAM of our computers. So we tried to delete each dataframe as soon as we didn't need it anymore, and we also used the gc.collect() function. For every exercise, we uploaded only the part we needed from the main dataset.</font>"
   ]
  },
  {
   "cell_type": "markdown",
   "metadata": {},
   "source": [
    "### <font color='purple'>Question 1:</font>\n",
    "#### <font color='purple'>A marketing funnel describes your customer’s journey with your e-commerce. It may involve different stages, beginning when someone learns about your business, when he/she visits your website for the first time, to the purchasing stage, marketing funnels map routes to conversion and beyond. Suppose your funnel involves just three simple steps: 1) view, 2) cart, 3) purchase. Which is the rate of complete funnels?</font>"
   ]
  },
  {
   "cell_type": "code",
   "execution_count": 161,
   "metadata": {},
   "outputs": [],
   "source": [
    "chunks_oct = pd.read_csv('2019-Oct.csv',chunksize=1000000, header='infer',usecols=[\"event_type\",\n",
    "\"product_id\",\"user_id\"])\n",
    "\n",
    "chunks_nov = pd.read_csv('2019-Nov.csv',chunksize=1000000, header='infer',usecols=[\"event_type\",\n",
    "\"product_id\",\"user_id\"])\n",
    "\n",
    "dataset=pd.DataFrame()\n",
    "for chunk in chunks_oct:\n",
    "    chunk = chunk[chunk[\"event_type\"]!=\"view\"]\n",
    "    dataset= pd.concat([dataset,chunk])\n",
    "for chunk in chunks_nov:\n",
    "    chunk = chunk[chunk[\"event_type\"]!=\"view\"]\n",
    "    dataset= pd.concat([dataset,chunk])"
   ]
  },
  {
   "cell_type": "code",
   "execution_count": 162,
   "metadata": {},
   "outputs": [
    {
     "data": {
      "text/plain": [
       "1116168"
      ]
     },
     "execution_count": 162,
     "metadata": {},
     "output_type": "execute_result"
    }
   ],
   "source": [
    "# rate of complete funnels :\n",
    "# In order to have a complete funnel, we need a certain user to execute a \"purchase\" action after having executed\n",
    "# a \"cart\" action. The \"view\" action has obviously happened before, so there is no need to consider it. This is why we will \n",
    "# work with a database containing only the \"purchase\" and \"cart\" actions. We will count one complete funnel everytime a \n",
    "# user performs a \"purchase\" action on a product, but only if the same user previously performed a \"cart\" action on the same\n",
    "# product.\n",
    "\n",
    "x=dataset.groupby([\"user_id\",\"product_id\"]) # we group the actions of the same user on the same product\n",
    "\n",
    "complete_funnels=0\n",
    "for name,group in x:\n",
    "    cart=0\n",
    "    purchase=0\n",
    "    for i in range(group.shape[0]):\n",
    "        event = group.iloc[i][\"event_type\"]\n",
    "        if event == \"cart\":\n",
    "            cart=cart+1\n",
    "        elif event == \"purchase\" and cart>purchase: #we accept a \"purchase\" only if a \"cart\" event has happened before\n",
    "            purchase=purchase+1\n",
    "    complete_funnels=complete_funnels+purchase\n",
    "\n",
    "complete_funnels"
   ]
  },
  {
   "cell_type": "markdown",
   "metadata": {},
   "source": [
    "### <font color='purple'>Question 1:</font>\n",
    "#### <font color='purple'>What’s the operation users repeat more on average within a session? Produce a plot that shows the average number of times users perform each operation (view/removefromchart etc etc).</font>"
   ]
  },
  {
   "cell_type": "code",
   "execution_count": 164,
   "metadata": {},
   "outputs": [],
   "source": [
    "dataset=pd.DataFrame()"
   ]
  },
  {
   "cell_type": "code",
   "execution_count": 165,
   "metadata": {},
   "outputs": [],
   "source": [
    "df_oct = pd.read_csv('2019-Oct.csv', header='infer',usecols=[ \"event_type\",\"user_session\"])"
   ]
  },
  {
   "cell_type": "code",
   "execution_count": 166,
   "metadata": {},
   "outputs": [
    {
     "data": {
      "text/plain": [
       "37"
      ]
     },
     "execution_count": 166,
     "metadata": {},
     "output_type": "execute_result"
    }
   ],
   "source": [
    "gc.collect()"
   ]
  },
  {
   "cell_type": "code",
   "execution_count": 167,
   "metadata": {},
   "outputs": [],
   "source": [
    "df_nov = pd.read_csv('2019-Nov.csv', header='infer',usecols=[ \"event_type\",\"user_session\"])"
   ]
  },
  {
   "cell_type": "code",
   "execution_count": 168,
   "metadata": {},
   "outputs": [],
   "source": [
    "dataset= pd.concat([df_oct,df_nov])"
   ]
  },
  {
   "cell_type": "code",
   "execution_count": 169,
   "metadata": {},
   "outputs": [
    {
     "name": "stdout",
     "output_type": "stream",
     "text": [
      "<class 'pandas.core.frame.DataFrame'>\n",
      "Int64Index: 109950743 entries, 0 to 67501978\n",
      "Data columns (total 2 columns):\n",
      " #   Column        Dtype \n",
      "---  ------        ----- \n",
      " 0   event_type    object\n",
      " 1   user_session  object\n",
      "dtypes: object(2)\n",
      "memory usage: 2.5+ GB\n"
     ]
    }
   ],
   "source": [
    "dataset.info()"
   ]
  },
  {
   "cell_type": "code",
   "execution_count": 170,
   "metadata": {},
   "outputs": [],
   "source": [
    "n_session = dataset['user_session'].nunique() # we calculate the total number of sessions"
   ]
  },
  {
   "cell_type": "code",
   "execution_count": 171,
   "metadata": {},
   "outputs": [],
   "source": [
    "actions = dataset['event_type'].value_counts() # we calculate the number of each action"
   ]
  },
  {
   "cell_type": "code",
   "execution_count": 172,
   "metadata": {},
   "outputs": [],
   "source": [
    "avg_actions = actions/n_session"
   ]
  },
  {
   "cell_type": "code",
   "execution_count": 174,
   "metadata": {},
   "outputs": [
    {
     "data": {
      "text/plain": [
       "array([4.53304495, 0.17185151, 0.07211249])"
      ]
     },
     "execution_count": 174,
     "metadata": {},
     "output_type": "execute_result"
    }
   ],
   "source": [
    "avg_actions.values"
   ]
  },
  {
   "cell_type": "code",
   "execution_count": 181,
   "metadata": {},
   "outputs": [
    {
     "data": {
      "image/png": "[encoded data removed]",
      "text/plain": [
       "<Figure size 410.4x451.44 with 1 Axes>"
      ]
     },
     "metadata": {},
     "output_type": "display_data"
    }
   ],
   "source": [
    "import matplotlib.pyplot as plt\n",
    "import seaborn as sns\n",
    "sns.set(style=\"darkgrid\")\n",
    "fig, ax = plt.subplots()\n",
    "fig.set_size_inches(5.7, 6.27)\n",
    "ax = sns.barplot(avg_actions.index,avg_actions.values)\n",
    "ax.set(xlabel=' Operations', ylabel='Avg. performs')\n",
    "plt.title(\" Average number of times users perform each operation in a session\")\n",
    "plt.show()"
   ]
  },
  {
   "cell_type": "markdown",
   "metadata": {},
   "source": [
    "#### <font color='blue'>As expected, the \"view\" actions are way more common than the \"cart\" and \"purchase\" actions.</font>"
   ]
  },
  {
   "cell_type": "markdown",
   "metadata": {},
   "source": [
    "### <font color='purple'>Question 1:</font>\n",
    "#### <font color='purple'>How many times, on average, a user views a product before adding it to the cart?</font>"
   ]
  },
  {
   "cell_type": "code",
   "execution_count": 182,
   "metadata": {},
   "outputs": [],
   "source": [
    "dataset=pd.DataFrame()"
   ]
  },
  {
   "cell_type": "code",
   "execution_count": 184,
   "metadata": {},
   "outputs": [],
   "source": [
    "df_oct = pd.read_csv('2019-Oct.csv', header='infer',usecols=[ \"event_type\"])"
   ]
  },
  {
   "cell_type": "code",
   "execution_count": 185,
   "metadata": {},
   "outputs": [],
   "source": [
    "df_nov = pd.read_csv('2019-Nov.csv', header='infer',usecols=[ \"event_type\"])"
   ]
  },
  {
   "cell_type": "code",
   "execution_count": 186,
   "metadata": {},
   "outputs": [],
   "source": [
    "dataset= pd.concat([df_oct,df_nov])"
   ]
  },
  {
   "cell_type": "code",
   "execution_count": 187,
   "metadata": {},
   "outputs": [
    {
     "data": {
      "text/plain": [
       "26.37768509543551"
      ]
     },
     "execution_count": 187,
     "metadata": {},
     "output_type": "execute_result"
    }
   ],
   "source": [
    "actions['view']/actions['cart']"
   ]
  },
  {
   "cell_type": "markdown",
   "metadata": {},
   "source": [
    "### <font color='purple'>Question 1:</font> \n",
    "#### <font color='purple'>What’s the probability that products added once to the cart are effectively bought?</font> "
   ]
  },
  {
   "cell_type": "code",
   "execution_count": 188,
   "metadata": {},
   "outputs": [
    {
     "name": "stdout",
     "output_type": "stream",
     "text": [
      "Percentage probability that products added once to the cart are effectively bought:\n"
     ]
    },
    {
     "data": {
      "text/plain": [
       "28.218511894739557"
      ]
     },
     "execution_count": 188,
     "metadata": {},
     "output_type": "execute_result"
    }
   ],
   "source": [
    "# We need to calculate in which percentage a \"cart\" action actually becomes a \"complete funnel\". Again, we consider \n",
    "# that the \"view\" event has obviously happened before.\n",
    "print(\"Percentage probability that products added once to the cart are effectively bought:\")\n",
    "complete_funnels/actions['cart']*100"
   ]
  },
  {
   "cell_type": "markdown",
   "metadata": {},
   "source": [
    "### <font color='purple'>Question 1:</font> \n",
    "#### <font color='purple'>What’s the average time an item stays in the cart before being removed?</font> "
   ]
  },
  {
   "cell_type": "code",
   "execution_count": 17,
   "metadata": {},
   "outputs": [],
   "source": [
    "# For this question, we will work with a database which doesn't contain the \"view\" actions. Since there is no\n",
    "# \"remove_from_cart\" event_type, we will calculate the average time difference between the first \"cart\" action of a user\n",
    "# on a product and the first \"purchase\" action, since purchasing the item removes it from the cart\n",
    "dataset=pd.DataFrame()\n",
    "chunks_oct = pd.read_csv('2019-Oct.csv',chunksize=1000000, header='infer',usecols=[\"event_time\", \"event_type\",\n",
    "\"product_id\",\"user_id\"])\n",
    "chunks_nov = pd.read_csv('2019-Nov.csv',chunksize=1000000, header='infer',usecols=[\"event_time\", \"event_type\",\n",
    "\"product_id\",\"user_id\"])\n",
    "\n",
    "for chunk in chunks_oct:\n",
    "    chunk = chunk[chunk[\"event_type\"]!=\"view\"]\n",
    "    chunk[\"event_time\"]= pd.to_datetime(chunk[\"event_time\"])\n",
    "    dataset= pd.concat([dataset,chunk])\n",
    "for chunk in chunks_nov:\n",
    "    chunk = chunk[chunk[\"event_type\"]!=\"view\"]\n",
    "    chunk[\"event_time\"]= pd.to_datetime(chunk[\"event_time\"])\n",
    "    dataset= pd.concat([dataset,chunk])"
   ]
  },
  {
   "cell_type": "code",
   "execution_count": 18,
   "metadata": {},
   "outputs": [],
   "source": [
    "z=dataset.groupby([\"user_id\",\"product_id\"]) # we group the actions of the same user on the same product\n",
    "tot_time=list() # the \"time passed between the first \"cart\" and a \"purchase\"\n",
    "for name,group in z:\n",
    "    added=  False # this condition will turn True when the product is added for the first time by the user\n",
    "    bought = False # this condition will turn True when the product is bought by the user\n",
    "    for i in range(group.shape[0]):\n",
    "        event = group.iloc[i][\"event_type\"]\n",
    "        if event == \"cart\" and not added:\n",
    "            add_time= group.iloc[i][\"event_time\"]\n",
    "            added=True # the product has been added to the cart\n",
    "        elif event==\"purchase\" and added and not bought:\n",
    "            buy_time= group.iloc[i][\"event_time\"]\n",
    "            bought= True # the product has been bought\n",
    "        elif bought and added:\n",
    "            break # we already found the first \"cart\" and the purchase time for this user and this product, so we can go to the next product/user\n",
    "    if bought and added:\n",
    "        tot_time.append(buy_time-add_time)\n",
    "tot_time=np.array(tot_time)\n",
    "counter=0\n",
    "y=pd.to_timedelta(0)\n",
    "while len(tot_time)>=1000: \n",
    "    x=tot_time[:1000]\n",
    "    tot_time=tot_time[1001:]\n",
    "    y=y+x.mean()\n",
    "    counter=counter+1\n",
    "average_time=y/counter"
   ]
  },
  {
   "cell_type": "code",
   "execution_count": 19,
   "metadata": {},
   "outputs": [
    {
     "data": {
      "text/plain": [
       "Timedelta('0 days 08:20:19.416349')"
      ]
     },
     "execution_count": 19,
     "metadata": {},
     "output_type": "execute_result"
    }
   ],
   "source": [
    "average_time"
   ]
  },
  {
   "cell_type": "markdown",
   "metadata": {},
   "source": [
    "#### <font color='blue'>On average, when a user adds a product in the cart, it will take almost 8 hours and an half for him to decide to actually buy the product</font>"
   ]
  },
  {
   "cell_type": "markdown",
   "metadata": {},
   "source": [
    "### <font color='purple'>Question 1:</font> \n",
    "#### <font color='purple'>How much time passes on average between the first view time and a purchase/addition to cart?</font>"
   ]
  },
  {
   "cell_type": "code",
   "execution_count": 21,
   "metadata": {},
   "outputs": [
    {
     "name": "stdout",
     "output_type": "stream",
     "text": [
      "Free the memory\n"
     ]
    }
   ],
   "source": [
    "dataset_oct=pd.DataFrame()\n",
    "dataset_nov=pd.DataFrame()\n",
    "dataset=pd.DataFrame()\n",
    "gc.collect()\n",
    "print(\"Free the memory\")"
   ]
  },
  {
   "cell_type": "markdown",
   "metadata": {},
   "source": [
    "#### <font color='darkblue'>For this exercise, we had to find a way to reduce the dataset in order to run the code just by using the 8gb ram of our personal computers. We decided to focus our analysis only on products with an high price. The reason for this is that we are looking for the average time between the first view time and a purchase/addition to cart. If the user sees a product with a low price and he is interested in it, he probably adds the product, or purchases it, as soon as he sees it. If he isn't interested, he simply won't add the product. So the average time between first view and a purchase/add to cart it's not really meaningful for products with a low price. Instead, when an user sees an high price product, even if he is interested in it, he will need some time to think about it. Understanding how much time the user needs to decide to buy the high price product or not is interesting for the company, because during that time the company might try to convince the user with, for example, a little discount. </font>"
   ]
  },
  {
   "cell_type": "code",
   "execution_count": 22,
   "metadata": {},
   "outputs": [],
   "source": [
    "chunks_oct = pd.read_csv('2019-Oct.csv',chunksize=1000000, header='infer',usecols=[\"event_time\", \"event_type\",\"price\",\n",
    "\"product_id\",\"user_id\"])\n",
    "\n",
    "chunks_nov = pd.read_csv('2019-Nov.csv',chunksize=1000000, header='infer',usecols=[\"event_time\", \"event_type\",\"price\",\n",
    "\"product_id\",\"user_id\"])\n",
    "\n",
    "for chunk in chunks_oct:\n",
    "    chunk = chunk[chunk[\"price\"]>500]\n",
    "    chunk[\"event_time\"]= pd.to_datetime(chunk[\"event_time\"])\n",
    "    dataset= pd.concat([dataset,chunk])\n",
    "for chunk in chunks_nov:\n",
    "    chunk = chunk[chunk[\"price\"]>500]\n",
    "    chunk[\"event_time\"]= pd.to_datetime(chunk[\"event_time\"])\n",
    "    dataset= pd.concat([dataset,chunk])"
   ]
  },
  {
   "cell_type": "code",
   "execution_count": 23,
   "metadata": {},
   "outputs": [
    {
     "name": "stdout",
     "output_type": "stream",
     "text": [
      "<class 'pandas.core.frame.DataFrame'>\n",
      "Int64Index: 18480132 entries, 2 to 67501978\n",
      "Data columns (total 5 columns):\n",
      " #   Column      Dtype              \n",
      "---  ------      -----              \n",
      " 0   event_time  datetime64[ns, UTC]\n",
      " 1   event_type  object             \n",
      " 2   product_id  int64              \n",
      " 3   price       float64            \n",
      " 4   user_id     int64              \n",
      "dtypes: datetime64[ns, UTC](1), float64(1), int64(2), object(1)\n",
      "memory usage: 846.0+ MB\n"
     ]
    }
   ],
   "source": [
    "dataset.info()"
   ]
  },
  {
   "cell_type": "code",
   "execution_count": 24,
   "metadata": {},
   "outputs": [],
   "source": [
    "z=dataset.groupby([\"product_id\",\"user_id\"]) # we group the actions of the same user on the same product\n",
    "tot_time=list() # a list of the \"time passed between the first view and a purchase/addition to cart\"\n",
    "for name,group in z:\n",
    "    seen=  False # this condition will turn True when the product is seen for the first time by the user\n",
    "    added = False # this condition will turn True when the product is bought or added to the cart by the user\n",
    "    for i in range(group.shape[0]):\n",
    "        event = group.iloc[i][\"event_type\"]\n",
    "        if event == \"view\" and not seen:\n",
    "            view_time= group.iloc[i][\"event_time\"]\n",
    "            seen=True # the product has been seen\n",
    "        elif event!=\"view\" and seen and not added:\n",
    "            add_time= group.iloc[i][\"event_time\"]\n",
    "            added= True # the product has been bought/added to the cart\n",
    "        elif seen and added:\n",
    "            break # we already found the first view time and the cart/purchase time for this user and this product, so we can go to the next product/user\n",
    "    if seen and added:\n",
    "        tot_time.append(add_time-view_time)\n",
    "tot_time=np.array(tot_time)\n",
    "counter=0\n",
    "y=pd.to_timedelta(0)\n",
    "while len(tot_time)>=1000: \n",
    "    x=tot_time[:1000]\n",
    "    tot_time=tot_time[1001:]\n",
    "    y=y+x.mean()\n",
    "    counter=counter+1\n",
    "average_time=y/counter"
   ]
  },
  {
   "cell_type": "code",
   "execution_count": 26,
   "metadata": {},
   "outputs": [
    {
     "data": {
      "text/plain": [
       "Timedelta('2 days 18:51:47.728509')"
      ]
     },
     "execution_count": 26,
     "metadata": {},
     "output_type": "execute_result"
    }
   ],
   "source": [
    "average_time"
   ]
  },
  {
   "cell_type": "markdown",
   "metadata": {},
   "source": [
    "#### <font color='darkblue'> As expected, when a user sees an expensive product which he is interested in , he needs some time to think about the purchase, almost 3 days. </font>"
   ]
  },
  {
   "cell_type": "code",
   "execution_count": null,
   "metadata": {},
   "outputs": [],
   "source": [
    "dataset_oct=pd.DataFrame()\n",
    "dataset_nov=pd.DataFrame()\n",
    "gc.collect()\n",
    "print(\"Free the memory\")"
   ]
  },
  {
   "cell_type": "markdown",
   "metadata": {},
   "source": [
    "### <font color='purple'>Question 2:</font> \n",
    "##### <font color='purple'>What are the categories of the most trending products overall? For each month visualize this information through a plot showing the number of sold products per category.</font>"
   ]
  },
  {
   "cell_type": "code",
   "execution_count": 159,
   "metadata": {},
   "outputs": [],
   "source": [
    "import pandas as pd \n",
    "dataset=pd.DataFrame()\n",
    "dataset_oct=pd.DataFrame()\n",
    "dataset_nov=pd.DataFrame()"
   ]
  },
  {
   "cell_type": "code",
   "execution_count": 74,
   "metadata": {},
   "outputs": [],
   "source": [
    "## reading data for October 2019:\n",
    "df_oct = pd.read_csv('2019-Oct.csv', header='infer',usecols=[\"event_type\",\"category_code\"])"
   ]
  },
  {
   "cell_type": "code",
   "execution_count": 4,
   "metadata": {},
   "outputs": [],
   "source": [
    "dataset_oct=df_oct[df_oct['category_code'].notna()] # eliminating missing data"
   ]
  },
  {
   "cell_type": "code",
   "execution_count": 5,
   "metadata": {},
   "outputs": [],
   "source": [
    "dataset_oct=dataset_oct[dataset_oct.event_type=='purchase'] # we are looking for the \"purchase\" actions"
   ]
  },
  {
   "cell_type": "code",
   "execution_count": 6,
   "metadata": {},
   "outputs": [
    {
     "data": {
      "text/plain": [
       "<bound method DataFrame.info of          event_type                category_code\n",
       "162        purchase       electronics.smartphone\n",
       "308        purchase       electronics.smartphone\n",
       "442        purchase    furniture.bathroom.toilet\n",
       "574        purchase  electronics.audio.headphone\n",
       "603        purchase  electronics.audio.headphone\n",
       "...             ...                          ...\n",
       "42447959   purchase       electronics.smartphone\n",
       "42448173   purchase     construction.tools.light\n",
       "42448271   purchase       electronics.smartphone\n",
       "42448362   purchase       electronics.smartphone\n",
       "42448657   purchase  electronics.audio.headphone\n",
       "\n",
       "[569424 rows x 2 columns]>"
      ]
     },
     "execution_count": 6,
     "metadata": {},
     "output_type": "execute_result"
    }
   ],
   "source": [
    "dataset_oct.info # we check our work"
   ]
  },
  {
   "cell_type": "code",
   "execution_count": 7,
   "metadata": {},
   "outputs": [],
   "source": [
    "# extracting category section from category_code data\n",
    "dataset_oct_cat=dataset_oct\n",
    "dataset_oct_cat['category_code']=dataset_oct_cat['category_code'].str.split('.').str[0]"
   ]
  },
  {
   "cell_type": "code",
   "execution_count": 73,
   "metadata": {},
   "outputs": [
    {
     "data": {
      "text/plain": [
       "<bound method DataFrame.info of                         event_time event_type\n",
       "162      2019-10-01 00:02:14+00:00   purchase\n",
       "308      2019-10-01 00:04:37+00:00   purchase\n",
       "379      2019-10-01 00:06:02+00:00   purchase\n",
       "442      2019-10-01 00:07:07+00:00   purchase\n",
       "574      2019-10-01 00:09:26+00:00   purchase\n",
       "...                            ...        ...\n",
       "42448148 2019-10-31 23:55:13+00:00   purchase\n",
       "42448173 2019-10-31 23:55:21+00:00   purchase\n",
       "42448271 2019-10-31 23:56:03+00:00   purchase\n",
       "42448362 2019-10-31 23:56:53+00:00   purchase\n",
       "42448657 2019-10-31 23:59:16+00:00   purchase\n",
       "\n",
       "[742849 rows x 2 columns]>"
      ]
     },
     "execution_count": 73,
     "metadata": {},
     "output_type": "execute_result"
    }
   ],
   "source": [
    "dataset_oct.info"
   ]
  },
  {
   "cell_type": "code",
   "execution_count": 60,
   "metadata": {},
   "outputs": [
    {
     "data": {
      "image/png": "[encoded data removed]",
      "text/plain": [
       "<Figure size 986.4x451.44 with 1 Axes>"
      ]
     },
     "metadata": {},
     "output_type": "display_data"
    }
   ],
   "source": [
    "import matplotlib.pyplot as plt\n",
    "import seaborn as sns\n",
    "sns.set(style=\"darkgrid\")\n",
    "fig, ax = plt.subplots()\n",
    "fig.set_size_inches(13.7, 6.27)\n",
    "x=dataset_oct_cat.groupby('category_code').category_code.count().nlargest(10) # we are looking for the top 10\n",
    "ax = sns.barplot(x.index,x.values)\n",
    "ax.set(xlabel=' categories for October', ylabel='# rate')\n",
    "plt.title(\" Most Visited Categories For October\")\n",
    "plt.show()"
   ]
  },
  {
   "cell_type": "code",
   "execution_count": 9,
   "metadata": {},
   "outputs": [],
   "source": [
    "# reading data for November 2019 \n",
    "df_nov = pd.read_csv('2019-Nov.csv', header='infer',usecols=[\"event_type\",\"category_code\"])"
   ]
  },
  {
   "cell_type": "code",
   "execution_count": 10,
   "metadata": {},
   "outputs": [],
   "source": [
    "dataset_nov=df_nov[df_nov['category_code'].notna()] # eliminating missing data"
   ]
  },
  {
   "cell_type": "code",
   "execution_count": 11,
   "metadata": {},
   "outputs": [],
   "source": [
    "dataset_nov=dataset_nov[dataset_nov.event_type=='purchase'] # we are looking for the \"purchase\" actions"
   ]
  },
  {
   "cell_type": "code",
   "execution_count": 12,
   "metadata": {},
   "outputs": [
    {
     "data": {
      "text/plain": [
       "<bound method DataFrame.info of          event_type                  category_code\n",
       "107        purchase          furniture.bedroom.bed\n",
       "168        purchase         electronics.smartphone\n",
       "707        purchase         electronics.smartphone\n",
       "939        purchase           electronics.video.tv\n",
       "942        purchase    electronics.audio.subwoofer\n",
       "...             ...                            ...\n",
       "67501716   purchase         electronics.smartphone\n",
       "67501725   purchase         electronics.smartphone\n",
       "67501745   purchase         electronics.smartphone\n",
       "67501824   purchase         electronics.smartphone\n",
       "67501863   purchase  appliances.environment.vacuum\n",
       "\n",
       "[682721 rows x 2 columns]>"
      ]
     },
     "execution_count": 12,
     "metadata": {},
     "output_type": "execute_result"
    }
   ],
   "source": [
    "dataset_nov.info # we check the data"
   ]
  },
  {
   "cell_type": "code",
   "execution_count": 13,
   "metadata": {},
   "outputs": [],
   "source": [
    "# extracting category section from category_code data\n",
    "dataset_nov_cat=dataset_nov \n",
    "dataset_nov_cat['category_code']=dataset_nov_cat['category_code'].str.split('.').str[0] "
   ]
  },
  {
   "cell_type": "code",
   "execution_count": 59,
   "metadata": {},
   "outputs": [
    {
     "data": {
      "image/png": "[encoded data removed]",
      "text/plain": [
       "<Figure size 986.4x451.44 with 1 Axes>"
      ]
     },
     "metadata": {},
     "output_type": "display_data"
    }
   ],
   "source": [
    "# November\n",
    "# We look for the top 10 categories by sales\n",
    "import matplotlib.pyplot as plt\n",
    "import seaborn as sns\n",
    "sns.set(style=\"darkgrid\")\n",
    "fig, ax = plt.subplots()\n",
    "fig.set_size_inches(13.7, 6.27)\n",
    "x=dataset_nov_cat.groupby('category_code').category_code.count().nlargest(10)\n",
    "ax = sns.barplot(x.index,x.values)\n",
    "ax.set(xlabel=' categories for November', ylabel='# rate')\n",
    "plt.title(\" Most Visited Categories For November\")\n",
    "plt.show()"
   ]
  },
  {
   "cell_type": "markdown",
   "metadata": {},
   "source": [
    "#### <font color='blue'>In both months, \"Electronics\" is the most visited category by a wide margin.</font>"
   ]
  },
  {
   "cell_type": "code",
   "execution_count": 160,
   "metadata": {},
   "outputs": [
    {
     "data": {
      "text/plain": [
       "100"
      ]
     },
     "execution_count": 160,
     "metadata": {},
     "output_type": "execute_result"
    }
   ],
   "source": [
    "import gc\n",
    "gc.collect()\n"
   ]
  },
  {
   "cell_type": "markdown",
   "metadata": {},
   "source": [
    "### <font color='purple'>Question 2:</font> \n",
    "##### <font color='purple'>plot the most visited subcategories for each month</font> "
   ]
  },
  {
   "cell_type": "code",
   "execution_count": 18,
   "metadata": {},
   "outputs": [],
   "source": [
    "dataset_oct1=df_oct[df_oct['category_code'].notna()]  # eliminating missing data"
   ]
  },
  {
   "cell_type": "code",
   "execution_count": 19,
   "metadata": {},
   "outputs": [],
   "source": [
    "oct_view=dataset_oct1[dataset_oct1.event_type=='view'] # extracting data with event_type= view\n"
   ]
  },
  {
   "cell_type": "code",
   "execution_count": null,
   "metadata": {},
   "outputs": [],
   "source": [
    "# we will extract the subcategory from the \"category_code\" column. We consider as \"subcategory\" the last part of the\n",
    "# \"category_column\" string."
   ]
  },
  {
   "cell_type": "code",
   "execution_count": 23,
   "metadata": {},
   "outputs": [],
   "source": [
    "oct_view_subcat=oct_view"
   ]
  },
  {
   "cell_type": "code",
   "execution_count": 25,
   "metadata": {},
   "outputs": [],
   "source": [
    "oct_view_subcat['category_code']=oct_view_subcat['category_code'].str.split('.').str[-1]"
   ]
  },
  {
   "cell_type": "code",
   "execution_count": null,
   "metadata": {},
   "outputs": [],
   "source": [
    "## October "
   ]
  },
  {
   "cell_type": "code",
   "execution_count": 58,
   "metadata": {},
   "outputs": [
    {
     "data": {
      "image/png": "[encoded data removed]",
      "text/plain": [
       "<Figure size 986.4x451.44 with 1 Axes>"
      ]
     },
     "metadata": {},
     "output_type": "display_data"
    }
   ],
   "source": [
    "sns.set(style=\"darkgrid\")\n",
    "fig, ax = plt.subplots()\n",
    "fig.set_size_inches(13.7, 6.27)\n",
    "x=oct_view_subcat.groupby('category_code').category_code.count().nlargest(10)\n",
    "ax = sns.barplot(x.index,x.values)\n",
    "ax.set(xlabel='subcategories for October', ylabel='# rate')\n",
    "ax.set_xticklabels(ax.get_xticklabels(), rotation=45)\n",
    "plt.title(\" Most Visited Subcategories For October\")\n",
    "plt.show()"
   ]
  },
  {
   "cell_type": "code",
   "execution_count": 32,
   "metadata": {
    "scrolled": false
   },
   "outputs": [
    {
     "name": "stdout",
     "output_type": "stream",
     "text": [
      "Free the memory\n"
     ]
    }
   ],
   "source": [
    "import gc\n",
    "gc.collect()\n",
    "print(\"Free the memory\")"
   ]
  },
  {
   "cell_type": "code",
   "execution_count": 33,
   "metadata": {},
   "outputs": [],
   "source": [
    "dataset_nov1=df_nov[df_nov['category_code'].notna()] "
   ]
  },
  {
   "cell_type": "code",
   "execution_count": 34,
   "metadata": {},
   "outputs": [],
   "source": [
    "nov_view=dataset_nov1[dataset_nov1.event_type=='view'] # extracting data with event_type= view"
   ]
  },
  {
   "cell_type": "code",
   "execution_count": 35,
   "metadata": {},
   "outputs": [],
   "source": [
    "nov_view_subcat=nov_view "
   ]
  },
  {
   "cell_type": "code",
   "execution_count": null,
   "metadata": {},
   "outputs": [],
   "source": [
    "nov_view_subcat['category_code']=nov_view_subcat['category_code'].str.split('.').str[-1]"
   ]
  },
  {
   "cell_type": "code",
   "execution_count": 57,
   "metadata": {},
   "outputs": [
    {
     "data": {
      "image/png": "[encoded data removed]",
      "text/plain": [
       "<Figure size 986.4x451.44 with 1 Axes>"
      ]
     },
     "metadata": {},
     "output_type": "display_data"
    }
   ],
   "source": [
    "# November\n",
    "# We look for the top 10 categories by sales\n",
    "sns.set(style=\"darkgrid\")\n",
    "fig, ax = plt.subplots()\n",
    "fig.set_size_inches(13.7, 6.27)\n",
    "x=nov_view_subcat.groupby('category_code').category_code.count().nlargest(10) # temp variable\n",
    "ax = sns.barplot(x.index,x.values)\n",
    "ax.set(xlabel=' subcategories for November ', ylabel='# rate')\n",
    "ax.set_xticklabels(ax.get_xticklabels(), rotation=45)\n",
    "plt.title(\" Most Visited Subcategories For November\") \n",
    "plt.show()"
   ]
  },
  {
   "cell_type": "markdown",
   "metadata": {},
   "source": [
    "#### <font color='blue'>In both months, \"Smartphone\" is the most visited subcategory by a wide margin. \"Smartphone\" is a subcategory of \"Electronics\", which is the most visited category</font>"
   ]
  },
  {
   "cell_type": "code",
   "execution_count": 194,
   "metadata": {},
   "outputs": [
    {
     "name": "stdout",
     "output_type": "stream",
     "text": [
      "Free the memory\n"
     ]
    }
   ],
   "source": [
    "dataset_nov=pd.DataFrame()\n",
    "gc.collect()\n",
    "print(\"Free the memory\")"
   ]
  },
  {
   "cell_type": "markdown",
   "metadata": {},
   "source": [
    "### <font color='purple'>What are the 10 most sold products per category in each month?</font>"
   ]
  },
  {
   "cell_type": "code",
   "execution_count": null,
   "metadata": {},
   "outputs": [],
   "source": [
    "## OCTOBER 2019 :"
   ]
  },
  {
   "cell_type": "code",
   "execution_count": 38,
   "metadata": {},
   "outputs": [],
   "source": [
    "col_list1=[\"product_id\"] # we aim to add column of product_id to previous loaded data "
   ]
  },
  {
   "cell_type": "code",
   "execution_count": 39,
   "metadata": {},
   "outputs": [],
   "source": [
    "a= pd.read_csv('2019-Oct.csv', sep=',',usecols=col_list1) # use it as temporary variable because we want concat it"
   ]
  },
  {
   "cell_type": "code",
   "execution_count": 40,
   "metadata": {},
   "outputs": [],
   "source": [
    "df_oct_m=pd.concat([df_oct,a],axis=1) # concatenate the extra column"
   ]
  },
  {
   "cell_type": "code",
   "execution_count": 42,
   "metadata": {},
   "outputs": [],
   "source": [
    "data_oct=df_oct_m[df_oct_m['category_code'].notna()]"
   ]
  },
  {
   "cell_type": "code",
   "execution_count": 43,
   "metadata": {},
   "outputs": [],
   "source": [
    "data_oct=data_oct[data_oct.event_type=='purchase']"
   ]
  },
  {
   "cell_type": "code",
   "execution_count": 44,
   "metadata": {},
   "outputs": [],
   "source": [
    "data_oct_cat=data_oct # to avoid miss indexing\n",
    "data_oct_cat['category_code']=data_oct_cat['category_code'].str.split('.').str[0]"
   ]
  },
  {
   "cell_type": "code",
   "execution_count": 47,
   "metadata": {},
   "outputs": [
    {
     "name": "stdout",
     "output_type": "stream",
     "text": [
      "accessories\n",
      "product_id\n",
      "18300155    63\n",
      "18300021    34\n",
      "52900016    31\n",
      "28300780    24\n",
      "49800017    23\n",
      "28300432    21\n",
      "18300595    17\n",
      "18300214    16\n",
      "18300496    16\n",
      "28400774    16\n",
      "Name: product_id, dtype: int64\n",
      "\n",
      "apparel\n",
      "product_id\n",
      "28718083    72\n",
      "28715756    46\n",
      "28712682    45\n",
      "28715827    40\n",
      "28715757    39\n",
      "28717034    39\n",
      "28703609    38\n",
      "28715829    38\n",
      "28716983    38\n",
      "54900011    37\n",
      "Name: product_id, dtype: int64\n",
      "\n",
      "appliances\n",
      "product_id\n",
      "3700926    1675\n",
      "3600661    1482\n",
      "3600163    1017\n",
      "3600666     877\n",
      "2900536     831\n",
      "3601405     768\n",
      "3601485     627\n",
      "2701657     566\n",
      "3601244     559\n",
      "3701134     543\n",
      "Name: product_id, dtype: int64\n",
      "\n",
      "auto\n",
      "product_id\n",
      "6000094    785\n",
      "4700478    411\n",
      "5701128    382\n",
      "6000227    360\n",
      "5701166    304\n",
      "4700630    300\n",
      "4700589    235\n",
      "6000229    214\n",
      "6000004    206\n",
      "5700518    165\n",
      "Name: product_id, dtype: int64\n",
      "\n",
      "computers\n",
      "product_id\n",
      "1307310    1003\n",
      "1307073     864\n",
      "1307366     722\n",
      "1307067     651\n",
      "1306650     649\n",
      "1307074     416\n",
      "1307188     378\n",
      "1307187     356\n",
      "1306359     350\n",
      "1307350     324\n",
      "Name: product_id, dtype: int64\n",
      "\n",
      "construction\n",
      "product_id\n",
      "19200005    404\n",
      "4000169     272\n",
      "12300396    267\n",
      "30000048    181\n",
      "12400121    123\n",
      "4000170     116\n",
      "12300394    113\n",
      "19200010    113\n",
      "12300066    111\n",
      "30000055     97\n",
      "Name: product_id, dtype: int64\n",
      "\n",
      "country_yard\n",
      "product_id\n",
      "27600022    10\n",
      "27600080     8\n",
      "30500001     6\n",
      "30500002     5\n",
      "30500003     5\n",
      "27600165     4\n",
      "30500022     3\n",
      "27600024     2\n",
      "27600150     2\n",
      "27600218     2\n",
      "Name: product_id, dtype: int64\n",
      "\n",
      "electronics\n",
      "product_id\n",
      "1004856    28944\n",
      "1004767    21806\n",
      "1004833    12697\n",
      "1005115    12543\n",
      "4804056    12381\n",
      "1004870    10615\n",
      "1002544    10549\n",
      "1004249     9090\n",
      "1004836     7691\n",
      "1005105     7293\n",
      "Name: product_id, dtype: int64\n",
      "\n",
      "furniture\n",
      "product_id\n",
      "14701435    207\n",
      "17200570    200\n",
      "13201002    133\n",
      "17200651    130\n",
      "7101172      98\n",
      "7900440      94\n",
      "7100133      84\n",
      "14701260     77\n",
      "14701406     72\n",
      "14701532     70\n",
      "Name: product_id, dtype: int64\n",
      "\n",
      "kids\n",
      "product_id\n",
      "7004492     209\n",
      "7004508     127\n",
      "7002254     123\n",
      "12100045    106\n",
      "7005751     102\n",
      "7004509      82\n",
      "8900305      82\n",
      "7005059      76\n",
      "12100230     66\n",
      "12100513     60\n",
      "Name: product_id, dtype: int64\n",
      "\n",
      "medicine\n",
      "product_id\n",
      "25800005    106\n",
      "25800007     90\n",
      "25800003     45\n",
      "25800001     23\n",
      "25800002     11\n",
      "25800006     10\n",
      "25800014      6\n",
      "25800019      6\n",
      "25800004      5\n",
      "25800000      3\n",
      "Name: product_id, dtype: int64\n",
      "\n",
      "sport\n",
      "product_id\n",
      "12202301    62\n",
      "12201562    61\n",
      "26900073    50\n",
      "12200545    35\n",
      "12201563    33\n",
      "12202338    33\n",
      "26900059    33\n",
      "26900065    30\n",
      "27000036    28\n",
      "12202300    25\n",
      "Name: product_id, dtype: int64\n",
      "\n",
      "stationery\n",
      "product_id\n",
      "12900125    9\n",
      "53400013    8\n",
      "12900132    7\n",
      "12901271    7\n",
      "12900110    5\n",
      "12900360    5\n",
      "12901426    5\n",
      "12900085    4\n",
      "12900181    4\n",
      "12900186    4\n",
      "Name: product_id, dtype: int64\n",
      "\n"
     ]
    }
   ],
   "source": [
    "categories_oct = data_oct_cat.groupby('category_code') \n",
    "for name, group in categories_oct:\n",
    "    x= group.groupby(\"product_id\").product_id.count().nlargest(10)\n",
    "    print(name)\n",
    "    print(x)\n",
    "    print(\"\")"
   ]
  },
  {
   "cell_type": "code",
   "execution_count": 48,
   "metadata": {},
   "outputs": [],
   "source": [
    "## November 2019:\n"
   ]
  },
  {
   "cell_type": "code",
   "execution_count": 49,
   "metadata": {},
   "outputs": [],
   "source": [
    "b= pd.read_csv('2019-Nov.csv', sep=',',usecols=col_list1) # we aim to add column od product_id to previous loaded data "
   ]
  },
  {
   "cell_type": "code",
   "execution_count": 51,
   "metadata": {},
   "outputs": [],
   "source": [
    "df_nov_m=pd.concat([df_nov,a],axis=1) # concatenate the extracted column"
   ]
  },
  {
   "cell_type": "code",
   "execution_count": 52,
   "metadata": {},
   "outputs": [],
   "source": [
    "data_nov=df_nov_m[df_nov_m['category_code'].notna()] # eliminating missing values"
   ]
  },
  {
   "cell_type": "code",
   "execution_count": 53,
   "metadata": {},
   "outputs": [],
   "source": [
    "data_nov=data_nov[data_nov.event_type=='purchase']"
   ]
  },
  {
   "cell_type": "code",
   "execution_count": 54,
   "metadata": {},
   "outputs": [],
   "source": [
    "data_nov_cat=data_nov \n",
    "data_nov_cat['category_code']=data_nov_cat['category_code'].str.split('.').str[0]"
   ]
  },
  {
   "cell_type": "code",
   "execution_count": 56,
   "metadata": {},
   "outputs": [
    {
     "name": "stdout",
     "output_type": "stream",
     "text": [
      "accessories\n",
      "product_id\n",
      "1004856.0    16\n",
      "1004767.0    12\n",
      "1004249.0    11\n",
      "1005115.0     9\n",
      "1005105.0     7\n",
      "1002544.0     6\n",
      "4804056.0     6\n",
      "1004565.0     5\n",
      "1004836.0     5\n",
      "1004870.0     5\n",
      "Name: product_id, dtype: int64\n",
      "\n",
      "apparel\n",
      "product_id\n",
      "1004856.0    95\n",
      "1005115.0    84\n",
      "1004767.0    79\n",
      "1002544.0    49\n",
      "1004833.0    43\n",
      "1005105.0    41\n",
      "1004249.0    37\n",
      "1004870.0    37\n",
      "4804056.0    36\n",
      "5100816.0    34\n",
      "Name: product_id, dtype: int64\n",
      "\n",
      "appliances\n",
      "product_id\n",
      "1004856.0    602\n",
      "1004767.0    550\n",
      "1005115.0    503\n",
      "1004833.0    348\n",
      "1004249.0    301\n",
      "1004870.0    271\n",
      "4804056.0    271\n",
      "1002544.0    269\n",
      "1005105.0    257\n",
      "5100816.0    252\n",
      "Name: product_id, dtype: int64\n",
      "\n",
      "auto\n",
      "product_id\n",
      "1004856.0    60\n",
      "1005115.0    59\n",
      "1004767.0    48\n",
      "1004833.0    40\n",
      "1004249.0    35\n",
      "4804056.0    33\n",
      "1005105.0    27\n",
      "1004739.0    26\n",
      "5100816.0    26\n",
      "1004741.0    24\n",
      "Name: product_id, dtype: int64\n",
      "\n",
      "computers\n",
      "product_id\n",
      "1004856.0    212\n",
      "1004767.0    186\n",
      "1005115.0    155\n",
      "1004870.0    108\n",
      "1004249.0    106\n",
      "1004833.0    101\n",
      "1002544.0     86\n",
      "4804056.0     86\n",
      "1005105.0     82\n",
      "1004741.0     81\n",
      "Name: product_id, dtype: int64\n",
      "\n",
      "construction\n",
      "product_id\n",
      "1004856.0    52\n",
      "1004767.0    43\n",
      "1005115.0    42\n",
      "1002544.0    28\n",
      "1004833.0    26\n",
      "1004249.0    24\n",
      "1004741.0    24\n",
      "1004836.0    23\n",
      "1004873.0    23\n",
      "1005105.0    23\n",
      "Name: product_id, dtype: int64\n",
      "\n",
      "country_yard\n",
      "product_id\n",
      "1004767.0    2\n",
      "1002544.0    1\n",
      "1003899.0    1\n",
      "1004386.0    1\n",
      "1004402.0    1\n",
      "1004777.0    1\n",
      "1004836.0    1\n",
      "1004848.0    1\n",
      "1004956.0    1\n",
      "1005007.0    1\n",
      "Name: product_id, dtype: int64\n",
      "\n",
      "electronics\n",
      "product_id\n",
      "1004856.0    3120\n",
      "1004767.0    2745\n",
      "1005115.0    2310\n",
      "1004249.0    1461\n",
      "1004833.0    1426\n",
      "1004870.0    1426\n",
      "1005105.0    1332\n",
      "4804056.0    1306\n",
      "1002544.0    1291\n",
      "5100816.0    1178\n",
      "Name: product_id, dtype: int64\n",
      "\n",
      "furniture\n",
      "product_id\n",
      "1004767.0    72\n",
      "1004856.0    70\n",
      "1005115.0    54\n",
      "1004870.0    46\n",
      "4804056.0    38\n",
      "1005105.0    34\n",
      "5100816.0    32\n",
      "1004249.0    31\n",
      "1004739.0    30\n",
      "1004741.0    29\n",
      "Name: product_id, dtype: int64\n",
      "\n",
      "kids\n",
      "product_id\n",
      "1004856.0    32\n",
      "1005115.0    26\n",
      "1004249.0    24\n",
      "1004767.0    21\n",
      "1005105.0    16\n",
      "1004741.0    15\n",
      "1002544.0    14\n",
      "1004750.0    13\n",
      "1004836.0    13\n",
      "4804056.0    13\n",
      "Name: product_id, dtype: int64\n",
      "\n",
      "medicine\n",
      "product_id\n",
      "1004856.0    4\n",
      "1004767.0    3\n",
      "1004741.0    2\n",
      "1004768.0    2\n",
      "1005105.0    2\n",
      "4802036.0    2\n",
      "1002528.0    1\n",
      "1002547.0    1\n",
      "1003304.0    1\n",
      "1003312.0    1\n",
      "Name: product_id, dtype: int64\n",
      "\n",
      "sport\n",
      "product_id\n",
      "1004856.0    16\n",
      "1004767.0     9\n",
      "1005115.0     7\n",
      "1002544.0     6\n",
      "1004833.0     6\n",
      "1004750.0     5\n",
      "1005160.0     5\n",
      "5100816.0     5\n",
      "1003306.0     4\n",
      "1004665.0     4\n",
      "Name: product_id, dtype: int64\n",
      "\n",
      "stationery\n",
      "product_id\n",
      "1004836.0    3\n",
      "1004870.0    3\n",
      "1002544.0    2\n",
      "1005105.0    2\n",
      "1005124.0    2\n",
      "1307054.0    2\n",
      "5100816.0    2\n",
      "1003285.0    1\n",
      "1003527.0    1\n",
      "1003751.0    1\n",
      "Name: product_id, dtype: int64\n",
      "\n"
     ]
    }
   ],
   "source": [
    "categories_nov = data_nov_cat.groupby('category_code') \n",
    "for name, group in categories_nov:\n",
    "    x= group.groupby(\"product_id\").product_id.count().nlargest(10)\n",
    "    print(name)\n",
    "    print(x)\n",
    "    print(\"\")"
   ]
  },
  {
   "cell_type": "code",
   "execution_count": 143,
   "metadata": {},
   "outputs": [
    {
     "name": "stdout",
     "output_type": "stream",
     "text": [
      "Free the memory\n"
     ]
    }
   ],
   "source": [
    "dataset=pd.DataFrame()\n",
    "dataset_oct=pd.DataFrame()\n",
    "dataset_nov=pd.DataFrame()\n",
    "gc.collect()\n",
    "print(\"Free the memory\")"
   ]
  },
  {
   "cell_type": "markdown",
   "metadata": {},
   "source": [
    "### <font color='purple'>Question 3:</font> \n",
    "##### <font color='purple'>For each category, what’s the brand whose prices are higher on average?</font> "
   ]
  },
  {
   "cell_type": "code",
   "execution_count": 144,
   "metadata": {},
   "outputs": [
    {
     "data": {
      "text/plain": [
       "category_code  brand        \n",
       "accessories    weekend           517.390000\n",
       "apparel        head              414.297500\n",
       "appliances     jura             1893.392500\n",
       "auto           t-max             557.238621\n",
       "computers      dreammachines    1801.820000\n",
       "construction   senci            1640.642222\n",
       "country_yard   viking            537.054000\n",
       "electronics    rado             1956.290000\n",
       "furniture      bellamebel       1030.407059\n",
       "kids           hartan           1801.820000\n",
       "medicine       omron              46.095110\n",
       "sport          bafang           1528.690000\n",
       "stationery     samsung            36.945333\n",
       "Name: m_price, dtype: float64"
      ]
     },
     "execution_count": 144,
     "metadata": {},
     "output_type": "execute_result"
    }
   ],
   "source": [
    "# We look for the average price of every brand\n",
    "dataset=pd.DataFrame()\n",
    "dataset_oct=pd.DataFrame()\n",
    "dataset_nov=pd.DataFrame()\n",
    "chunks_oct = pd.read_csv('2019-Oct.csv',chunksize=1000000, header='infer',usecols=[\"event_type\",\"category_code\",\"brand\",\"price\"])\n",
    "chunks_nov = pd.read_csv('2019-Nov.csv',chunksize=1000000, header='infer',usecols=[\"event_type\",\"category_code\",\"brand\",\"price\"])\n",
    "for chunk in chunks_oct:\n",
    "    chunk=chunk[chunk[\"category_code\"].notna()] \n",
    "    chunk = chunk[chunk[\"event_type\"]==\"purchase\"]\n",
    "    chunk['category_code'] = chunk['category_code'].str.split('.').str[0]\n",
    "    dataset= pd.concat([dataset,chunk])\n",
    "for chunk in chunks_nov:\n",
    "    chunk=chunk[chunk[\"category_code\"].notna()] \n",
    "    chunk = chunk[chunk[\"event_type\"]==\"purchase\"]\n",
    "    chunk['category_code'] = chunk['category_code'].str.split('.').str[0]\n",
    "    dataset= pd.concat([dataset,chunk])\n",
    "\n",
    "brand_group=dataset.groupby(['category_code','brand']).agg(m_price=('price','mean'))\n",
    "brand_agg=brand_group['m_price'].groupby('category_code',group_keys=False)\n",
    "brand_agg.nlargest(1) # for each category, we show the brand with the highest average price"
   ]
  },
  {
   "cell_type": "markdown",
   "metadata": {},
   "source": [
    "### <font color='purple'>Question 3:</font> \n",
    "##### <font color='purple'>Write a function that asks the user a category in input and returns a plot indicating the average price of the products sold by the brand.</font>"
   ]
  },
  {
   "cell_type": "code",
   "execution_count": 146,
   "metadata": {
    "scrolled": false
   },
   "outputs": [
    {
     "name": "stdout",
     "output_type": "stream",
     "text": [
      "electronics\n"
     ]
    },
    {
     "data": {
      "text/plain": [
       "category_code  brand   \n",
       "electronics    acer        148.564167\n",
       "               aces         86.490000\n",
       "               acme         66.620000\n",
       "               acqua         2.960000\n",
       "               acv          60.901000\n",
       "                              ...    \n",
       "               zalman       16.730000\n",
       "               zeppelin    504.638095\n",
       "               zinvo       386.110000\n",
       "               zoom        172.460000\n",
       "               zte          79.045614\n",
       "Name: m_price, Length: 305, dtype: float64"
      ]
     },
     "execution_count": 146,
     "metadata": {},
     "output_type": "execute_result"
    }
   ],
   "source": [
    "# We ask the user a category in input. We will give as output a list of the average prices of each brand which belongs to that category\n",
    "def category_prices(name=input()):\n",
    "    return brand_agg.get_group(name)\n",
    "category_prices()"
   ]
  },
  {
   "cell_type": "markdown",
   "metadata": {},
   "source": [
    "### <font color='purple'>Question 3:</font> \n",
    "##### <font color='purple'>Find, for each category, the brand with the highest average price. Return all the results in ascending order by price.</font> \n"
   ]
  },
  {
   "cell_type": "code",
   "execution_count": 147,
   "metadata": {},
   "outputs": [
    {
     "data": {
      "text/plain": [
       "category_code  brand        \n",
       "stationery     samsung            36.945333\n",
       "medicine       omron              46.095110\n",
       "apparel        head              414.297500\n",
       "accessories    weekend           517.390000\n",
       "country_yard   viking            537.054000\n",
       "auto           t-max             557.238621\n",
       "furniture      bellamebel       1030.407059\n",
       "sport          bafang           1528.690000\n",
       "construction   senci            1640.642222\n",
       "computers      dreammachines    1801.820000\n",
       "kids           hartan           1801.820000\n",
       "appliances     jura             1893.392500\n",
       "electronics    rado             1956.290000\n",
       "Name: m_price, dtype: float64"
      ]
     },
     "execution_count": 147,
     "metadata": {},
     "output_type": "execute_result"
    }
   ],
   "source": [
    "brand_agg.nlargest(1).sort_values()"
   ]
  },
  {
   "cell_type": "code",
   "execution_count": 148,
   "metadata": {},
   "outputs": [
    {
     "name": "stdout",
     "output_type": "stream",
     "text": [
      "Free the memory\n"
     ]
    }
   ],
   "source": [
    "dataset=pd.DataFrame()\n",
    "dataset_oct=pd.DataFrame()\n",
    "dataset_nov=pd.DataFrame()\n",
    "gc.collect()\n",
    "print(\"Free the memory\")"
   ]
  },
  {
   "cell_type": "markdown",
   "metadata": {},
   "source": [
    "### <font color='purple'>Question 4:</font> \n",
    "##### <font color='purple'>How much does each brand earn per month?</font> "
   ]
  },
  {
   "cell_type": "code",
   "execution_count": 143,
   "metadata": {},
   "outputs": [],
   "source": [
    "dataset=pd.DataFrame()\n",
    "dataset_oct=pd.DataFrame()\n",
    "dataset_nov=pd.DataFrame()\n"
   ]
  },
  {
   "cell_type": "code",
   "execution_count": 144,
   "metadata": {},
   "outputs": [],
   "source": [
    "df_oct = pd.read_csv('2019-Oct.csv', header='infer',usecols=[\"event_type\",\"brand\",\"price\"])"
   ]
  },
  {
   "cell_type": "code",
   "execution_count": 145,
   "metadata": {},
   "outputs": [],
   "source": [
    "df_nov = pd.read_csv('2019-Nov.csv', header='infer',usecols=[\"event_type\",\"brand\",\"price\"])"
   ]
  },
  {
   "cell_type": "code",
   "execution_count": 146,
   "metadata": {},
   "outputs": [],
   "source": [
    "#Categorizing \n",
    "dataset_oct = df_oct[df_oct[\"event_type\"]==\"purchase\"]"
   ]
  },
  {
   "cell_type": "code",
   "execution_count": 147,
   "metadata": {},
   "outputs": [],
   "source": [
    "dataset_nov = df_nov[df_nov[\"event_type\"]==\"purchase\"]"
   ]
  },
  {
   "cell_type": "code",
   "execution_count": 148,
   "metadata": {},
   "outputs": [
    {
     "name": "stdout",
     "output_type": "stream",
     "text": [
      "October revenues\n"
     ]
    },
    {
     "data": {
      "text/plain": [
       "brand\n",
       "a-case       275.26\n",
       "a-derma       12.36\n",
       "a-mega      1031.47\n",
       "abk           69.36\n",
       "abtoys       324.17\n",
       "             ...   \n",
       "zoom         167.31\n",
       "zotac        279.43\n",
       "zte        13623.87\n",
       "zubr         659.05\n",
       "zuru          25.68\n",
       "Name: price, Length: 1983, dtype: float64"
      ]
     },
     "execution_count": 148,
     "metadata": {},
     "output_type": "execute_result"
    }
   ],
   "source": [
    "print(\"October revenues\")\n",
    "dataset_oct.groupby('brand').price.sum() # we calculate the revenue of each brand"
   ]
  },
  {
   "cell_type": "code",
   "execution_count": 149,
   "metadata": {},
   "outputs": [
    {
     "name": "stdout",
     "output_type": "stream",
     "text": [
      "November revenues\n"
     ]
    },
    {
     "data": {
      "text/plain": [
       "brand\n",
       "a-case                808.32\n",
       "a-elita                 8.49\n",
       "a-mega                908.68\n",
       "aardwolf              219.10\n",
       "absolutechampion      166.03\n",
       "                      ...   \n",
       "zotac                1906.14\n",
       "zte                  8904.13\n",
       "zubr                15988.00\n",
       "zuru                   38.52\n",
       "zvezda                 11.97\n",
       "Name: price, Length: 2486, dtype: float64"
      ]
     },
     "execution_count": 149,
     "metadata": {},
     "output_type": "execute_result"
    }
   ],
   "source": [
    "print(\"November revenues\")\n",
    "dataset_nov.groupby('brand').price.sum() # we calculate the revenue of each brand"
   ]
  },
  {
   "cell_type": "markdown",
   "metadata": {},
   "source": [
    "### <font color='purple'>Question 4:</font> \n",
    "##### <font color='purple'>Write a function that given the name of a brand in input returns, for each month, its profit.</font>"
   ]
  },
  {
   "cell_type": "code",
   "execution_count": 150,
   "metadata": {},
   "outputs": [
    {
     "name": "stdout",
     "output_type": "stream",
     "text": [
      "apple\n"
     ]
    },
    {
     "data": {
      "text/plain": [
       "(111209268.81999998, 127512524.88000003)"
      ]
     },
     "execution_count": 150,
     "metadata": {},
     "output_type": "execute_result"
    }
   ],
   "source": [
    "def profit_brand(Name=input()):\n",
    "    oct_profit=dataset_oct[dataset_oct.brand==Name].price.sum() # we calculate the revenue of the brand for October\n",
    "    nov_profit=dataset_nov[dataset_nov.brand==Name].price.sum() # we calculate the revenue of the brand for November\n",
    "    return oct_profit, nov_profit\n",
    "profit_brand()"
   ]
  },
  {
   "cell_type": "markdown",
   "metadata": {},
   "source": [
    "### <font color='purple'>Question 4:</font>\n",
    "##### <font color='purple'>Is the average price of products of different brands significantly different?</font>"
   ]
  },
  {
   "cell_type": "code",
   "execution_count": null,
   "metadata": {},
   "outputs": [],
   "source": [
    "# We consider the average price of all the products by the same brand as the \"brand price\". \n",
    "# We calculate the difference between the maximum and the minimum brand price, and the average between the brand prices."
   ]
  },
  {
   "cell_type": "code",
   "execution_count": 151,
   "metadata": {},
   "outputs": [],
   "source": [
    "dataset=pd.concat([dataset_oct,dataset_nov])"
   ]
  },
  {
   "cell_type": "code",
   "execution_count": 152,
   "metadata": {},
   "outputs": [],
   "source": [
    "avg_brand_price=dataset.groupby([\"brand\"]).price.mean()\n",
    "ranges=avg_brand_price.max()-avg_brand_price.min()"
   ]
  },
  {
   "cell_type": "code",
   "execution_count": 153,
   "metadata": {},
   "outputs": [
    {
     "data": {
      "text/plain": [
       "158.5258799823834"
      ]
     },
     "execution_count": 153,
     "metadata": {},
     "output_type": "execute_result"
    }
   ],
   "source": [
    "avg_brand_price.mean()"
   ]
  },
  {
   "cell_type": "code",
   "execution_count": 154,
   "metadata": {},
   "outputs": [
    {
     "name": "stdout",
     "output_type": "stream",
     "text": [
      "The difference between the maximum and the minimum brand price is:  1991.4299999999998\n",
      "The average between the brand prices is:  158.5258799823834\n"
     ]
    }
   ],
   "source": [
    "print(\"The difference between the maximum and the minimum brand price is: \", ranges)\n",
    "print(\"The average between the brand prices is: \",avg_brand_price.mean())"
   ]
  },
  {
   "cell_type": "markdown",
   "metadata": {},
   "source": [
    "## <font color='purple'>Question 4:</font> \n",
    "##### <font color='purple'>Using the function you just created, find the top 3 brands that have suffered the biggest losses in earnings between one month and the next, specifing both the loss percentage and the 2 months</font> "
   ]
  },
  {
   "cell_type": "code",
   "execution_count": 158,
   "metadata": {},
   "outputs": [
    {
     "name": "stdout",
     "output_type": "stream",
     "text": [
      "Top 3 brands that have suffered the biggest losses in earnings between October 2019 and November 2019:\n"
     ]
    },
    {
     "data": {
      "text/plain": [
       "brand\n",
       "jonnesway   -96.624338\n",
       "sunfull     -96.000000\n",
       "evga        -95.899730\n",
       "Name: price, dtype: float64"
      ]
     },
     "execution_count": 158,
     "metadata": {},
     "output_type": "execute_result"
    }
   ],
   "source": [
    "# We are working only with the datasets from November and October, so the loss is to be considered as happened between these\n",
    "# two months\n",
    "print(\"Top 3 brands that have suffered the biggest losses in earnings between October 2019 and November 2019:\")\n",
    "(((dataset_nov.groupby('brand').price.sum()-dataset_oct.groupby('brand').price.sum())/dataset_oct.groupby('brand')\n",
    ".price.sum() )*100  ) .sort_values(ascending=True).head(3)\n",
    "    "
   ]
  },
  {
   "cell_type": "markdown",
   "metadata": {},
   "source": [
    "## <font color='purple'>Question 5:</font>\n",
    "#####  <font color='purple'>In what part of the day is your store most visited? Knowing which days of the week or even which hours of the day shoppers are likely to visit your online store and make a purchase may help you improve your strategies. Create a plot that for each day of the week shows the hourly average of visitors your store has.</font>"
   ]
  },
  {
   "cell_type": "code",
   "execution_count": 119,
   "metadata": {},
   "outputs": [
    {
     "name": "stdout",
     "output_type": "stream",
     "text": [
      "Free the memory\n"
     ]
    }
   ],
   "source": [
    "dataset=pd.DataFrame()\n",
    "dataset_oct=pd.DataFrame()\n",
    "dataset_nov=pd.DataFrame()\n",
    "gc.collect()\n",
    "print(\"Free the memory\")"
   ]
  },
  {
   "cell_type": "code",
   "execution_count": 120,
   "metadata": {},
   "outputs": [],
   "source": [
    "# we load data of October 2019 just for the 2 columns we need \n",
    "df_oct = pd.read_csv('2019-Oct.csv', header='infer',usecols=[\"event_time\", \"event_type\"]) "
   ]
  },
  {
   "cell_type": "code",
   "execution_count": 121,
   "metadata": {},
   "outputs": [],
   "source": [
    "# we load data of November 2019 just for the 2 columns we need\n",
    "df_nov = pd.read_csv('2019-Nov.csv', header='infer',usecols=[\"event_time\", \"event_type\"]) "
   ]
  },
  {
   "cell_type": "code",
   "execution_count": 122,
   "metadata": {},
   "outputs": [],
   "source": [
    "dataset= pd.concat([df_oct,df_nov]) # concatenate data "
   ]
  },
  {
   "cell_type": "code",
   "execution_count": 124,
   "metadata": {},
   "outputs": [],
   "source": [
    "# we are looking for the \"view\" actions\n",
    "dataset_view= dataset[dataset.event_type=='view'] "
   ]
  },
  {
   "cell_type": "code",
   "execution_count": null,
   "metadata": {},
   "outputs": [],
   "source": [
    "# we change the \"event_time\" column to datetime format \n",
    "dataset_view[\"event_time\"]= pd.to_datetime(dataset_view[\"event_time\"])"
   ]
  },
  {
   "cell_type": "code",
   "execution_count": 131,
   "metadata": {},
   "outputs": [
    {
     "data": {
      "text/plain": [
       "event_time  event_type\n",
       "16          view          7270950\n",
       "15          view          7117965\n",
       "17          view          6882199\n",
       "Name: event_type, dtype: int64"
      ]
     },
     "execution_count": 131,
     "metadata": {},
     "output_type": "execute_result"
    }
   ],
   "source": [
    "# We show the top 3 hours for \"views\" on the site\n",
    "dataset_view.groupby([dataset_view.event_time.dt.hour , dataset_view.event_type]).event_type.count().nlargest(3)"
   ]
  },
  {
   "cell_type": "code",
   "execution_count": 139,
   "metadata": {},
   "outputs": [],
   "source": [
    "dataset_purchase= dataset[dataset.event_type=='purchase'] # observing just \"purchase\" event "
   ]
  },
  {
   "cell_type": "code",
   "execution_count": null,
   "metadata": {},
   "outputs": [],
   "source": [
    "# we change the \"event_time\" column to datetime format \n",
    "dataset_purchase[\"event_time\"]= pd.to_datetime(dataset_purchase[\"event_time\"]) "
   ]
  },
  {
   "cell_type": "code",
   "execution_count": 141,
   "metadata": {},
   "outputs": [
    {
     "data": {
      "text/plain": [
       "event_time  event_type\n",
       "9           purchase      126617\n",
       "10          purchase      120946\n",
       "8           purchase      120458\n",
       "Name: event_type, dtype: int64"
      ]
     },
     "execution_count": 141,
     "metadata": {},
     "output_type": "execute_result"
    }
   ],
   "source": [
    "# We show the top 3 hours for \"purchases\" on the site\n",
    "dataset_purchase.groupby([dataset_purchase.event_time.dt.hour , dataset_purchase.event_type]).event_type.count().nlargest(3)"
   ]
  },
  {
   "cell_type": "markdown",
   "metadata": {},
   "source": [
    "#### <font color='blue'>We can see that the afternoon hours are the ones with the most visitors on the site, but the favourite hours for purchasing products are the morning hours</font>\n"
   ]
  },
  {
   "cell_type": "code",
   "execution_count": 183,
   "metadata": {},
   "outputs": [
    {
     "data": {
      "text/plain": [
       "17095"
      ]
     },
     "execution_count": 183,
     "metadata": {},
     "output_type": "execute_result"
    }
   ],
   "source": [
    "gc.collect()"
   ]
  },
  {
   "cell_type": "code",
   "execution_count": 130,
   "metadata": {},
   "outputs": [],
   "source": [
    "# now we count the views for each day of the week\n",
    "tot_views_daily=dataset_view.groupby([dataset_view.event_time.dt.dayofweek,dataset_view.event_type]).event_type.count()"
   ]
  },
  {
   "cell_type": "code",
   "execution_count": 132,
   "metadata": {},
   "outputs": [],
   "source": [
    "avg_views_daily=tot_views_daily/24\n",
    "avg_views_daily.rename({0:\"Monday\", 1:\"Tuesday\", 2:\"Wednesday\", 3:\"Thursday\", 4:\"Friday\", 5:\"Saturday\", 6:\"Sunday\"}, inplace=True)"
   ]
  },
  {
   "cell_type": "code",
   "execution_count": 138,
   "metadata": {},
   "outputs": [
    {
     "data": {
      "image/png": "[encoded data removed]",
      "text/plain": [
       "<Figure size 1058.4x379.44 with 1 Axes>"
      ]
     },
     "metadata": {},
     "output_type": "display_data"
    }
   ],
   "source": [
    "sns.set(style=\"darkgrid\")\n",
    "fig, ax = plt.subplots()\n",
    "fig.set_size_inches(14.7, 5.27)\n",
    "ax = sns.barplot(avg_views_daily.index,avg_views_daily.values)\n",
    "ax.set(xlabel=' Days of the week ', ylabel='Average Hourly Views')\n",
    "ax.set_xticklabels(ax.get_xticklabels(), rotation=45)\n",
    "plt.title(\" verage Hourly Views Per Day Of The Week\") \n",
    "plt.show()"
   ]
  },
  {
   "cell_type": "markdown",
   "metadata": {},
   "source": [
    "#### <font color='blue'>As expected, Friday, Saturday and Sunday are the days with the most visitors on the site</font>\n"
   ]
  },
  {
   "cell_type": "markdown",
   "metadata": {},
   "source": [
    "### <font color='purple'>Question 6:</font>\n",
    "##### <font color='purple'>The conversion rate of a product is given by the number of times a product has been bought over the number of times it has been visited. What's the conversion rate of your online store? Find the overall conversion rate of your store.</font>"
   ]
  },
  {
   "cell_type": "code",
   "execution_count": 75,
   "metadata": {},
   "outputs": [],
   "source": [
    "dataset=pd.DataFrame()\n",
    "dataset_oct=pd.DataFrame()\n",
    "dataset_nov=pd.DataFrame()"
   ]
  },
  {
   "cell_type": "code",
   "execution_count": 76,
   "metadata": {},
   "outputs": [],
   "source": [
    "dataset_oct = pd.read_csv('2019-Oct.csv', header='infer',usecols=[\"event_type\"])"
   ]
  },
  {
   "cell_type": "code",
   "execution_count": 77,
   "metadata": {},
   "outputs": [],
   "source": [
    "dataset_nov = pd.read_csv('2019-Nov.csv', header='infer',usecols=[\"event_type\"])"
   ]
  },
  {
   "cell_type": "code",
   "execution_count": 78,
   "metadata": {},
   "outputs": [],
   "source": [
    "dataset= pd.concat([dataset_oct,dataset_nov])"
   ]
  },
  {
   "cell_type": "code",
   "execution_count": 79,
   "metadata": {},
   "outputs": [],
   "source": [
    "# increase free space of RAM\n",
    "dataset_oct=pd.DataFrame()\n",
    "dataset_nov=pd.DataFrame()"
   ]
  },
  {
   "cell_type": "code",
   "execution_count": null,
   "metadata": {},
   "outputs": [],
   "source": [
    "# We need the calculate the rate between how many times the products are \n",
    "# buyed and how many times the products are visited"
   ]
  },
  {
   "cell_type": "code",
   "execution_count": 81,
   "metadata": {},
   "outputs": [
    {
     "name": "stdout",
     "output_type": "stream",
     "text": [
      "conversion_rate = 0.01590817944828352\n"
     ]
    }
   ],
   "source": [
    "tot_views= dataset[\"event_type\"][dataset[\"event_type\"]==\"view\"].count()         # total number of views\n",
    "tot_purchases= dataset[\"event_type\"][dataset[\"event_type\"]==\"purchase\"].count() # total number of purchases\n",
    "conversion_rate= tot_purchases/tot_views                                        # conversion rate of the online store\n",
    "print(\"conversion_rate =\",conversion_rate)"
   ]
  },
  {
   "cell_type": "markdown",
   "metadata": {},
   "source": [
    "### <font color='purple'>Question 6:</font>\n",
    "#### <font color='purple'>Plot the number of purchases of each category and show the conversion rate of each category in decreasing order.</font>"
   ]
  },
  {
   "cell_type": "code",
   "execution_count": 82,
   "metadata": {},
   "outputs": [
    {
     "name": "stdout",
     "output_type": "stream",
     "text": [
      "Free the memory\n"
     ]
    }
   ],
   "source": [
    "dataset=pd.DataFrame()\n",
    "dataset_oct=pd.DataFrame()\n",
    "dataset_nov=pd.DataFrame()\n",
    "gc.collect()\n",
    "print(\"Free the memory\")"
   ]
  },
  {
   "cell_type": "code",
   "execution_count": 83,
   "metadata": {},
   "outputs": [],
   "source": [
    "dataset_oct = pd.read_csv('2019-Oct.csv', header='infer',usecols=[\"event_type\",\"category_code\"])"
   ]
  },
  {
   "cell_type": "code",
   "execution_count": 84,
   "metadata": {},
   "outputs": [],
   "source": [
    "dataset_nov = pd.read_csv('2019-Nov.csv', header='infer',usecols=[\"event_type\",\"category_code\"])"
   ]
  },
  {
   "cell_type": "code",
   "execution_count": 85,
   "metadata": {},
   "outputs": [],
   "source": [
    "dataset_oct['category_code'] = dataset_oct['category_code'].str.split('.').str[0] # we extract the category\n",
    "# the category is the first part of the \"category_code\" string"
   ]
  },
  {
   "cell_type": "code",
   "execution_count": 87,
   "metadata": {
    "scrolled": true
   },
   "outputs": [],
   "source": [
    "dataset_nov['category_code'] = dataset_nov['category_code'].str.split('.').str[0] "
   ]
  },
  {
   "cell_type": "code",
   "execution_count": 88,
   "metadata": {},
   "outputs": [],
   "source": [
    "dataset=pd.concat([dataset_oct,dataset_nov])"
   ]
  },
  {
   "cell_type": "code",
   "execution_count": 89,
   "metadata": {},
   "outputs": [],
   "source": [
    "views_dataset=dataset[dataset[\"event_type\"]==\"view\"] "
   ]
  },
  {
   "cell_type": "code",
   "execution_count": 90,
   "metadata": {},
   "outputs": [],
   "source": [
    "purchase_dataset=dataset[dataset[\"event_type\"]==\"purchase\"] "
   ]
  },
  {
   "cell_type": "code",
   "execution_count": 101,
   "metadata": {},
   "outputs": [],
   "source": [
    "total_ourchased_cat=purchase_dataset.groupby(\"category_code\").category_code.count().sort_values(ascending=False)"
   ]
  },
  {
   "cell_type": "code",
   "execution_count": 102,
   "metadata": {},
   "outputs": [
    {
     "data": {
      "text/plain": [
       "array([916667, 174022,  62332,  22217,  21339,  19843,  16500,  11648,\n",
       "         3741,   2725,    654,    325,    132])"
      ]
     },
     "execution_count": 102,
     "metadata": {},
     "output_type": "execute_result"
    }
   ],
   "source": [
    "total_ourchased_cat.values"
   ]
  },
  {
   "cell_type": "code",
   "execution_count": 105,
   "metadata": {},
   "outputs": [
    {
     "data": {
      "image/png": "[encoded data removed]",
      "text/plain": [
       "<Figure size 986.4x451.44 with 1 Axes>"
      ]
     },
     "metadata": {},
     "output_type": "display_data"
    }
   ],
   "source": [
    "sns.set(style=\"darkgrid\")\n",
    "fig, ax = plt.subplots()\n",
    "fig.set_size_inches(13.7, 6.27)\n",
    "ax  = sns.barplot(  total_ourchased_cat.index , total_ourchased_cat.values  )\n",
    "ax.set(ylabel=' #rate ', xlabel='Category')\n",
    "ax.set_xticklabels(ax.get_xticklabels(), rotation=45)\n",
    "plt.title(\" Number Of Purchases Per Category\") \n",
    "plt.show()"
   ]
  },
  {
   "cell_type": "markdown",
   "metadata": {},
   "source": [
    "#### <font color='blue'> We can see that the \"electronics\" category is the one with the highest number of purchases by a wide margin. This was expected, since \"electronics\" is also the most visited category</font>"
   ]
  },
  {
   "cell_type": "code",
   "execution_count": 94,
   "metadata": {},
   "outputs": [
    {
     "data": {
      "text/plain": [
       "category_code\n",
       "electronics     0.024757\n",
       "medicine        0.018827\n",
       "stationery      0.016819\n",
       "appliances      0.013555\n",
       "computers       0.009897\n",
       "auto            0.009890\n",
       "construction    0.009376\n",
       "kids            0.009015\n",
       "sport           0.006565\n",
       "accessories     0.006068\n",
       "furniture       0.006022\n",
       "apparel         0.004962\n",
       "country_yard    0.004223\n",
       "Name: event_type, dtype: float64"
      ]
     },
     "execution_count": 94,
     "metadata": {},
     "output_type": "execute_result"
    }
   ],
   "source": [
    "# we show the conversion rate of each category in decreasing order\n",
    "(purchase_dataset.groupby(\"category_code\").event_type.count()/views_dataset.groupby(\"category_code\").event_type.count()).sort_values(ascending=False)"
   ]
  },
  {
   "cell_type": "markdown",
   "metadata": {},
   "source": [
    "#### <font color='blue'> The \"electronics\" category also has the best conversion rate. At the second place we find \"medicine\". This makes sense because medicines are something users look for when they actually need them, so there is a good chance that a user who is looking for medicines on the site will also buy a medicine. </font>"
   ]
  },
  {
   "cell_type": "markdown",
   "metadata": {},
   "source": [
    "### <font color='purple'>Question 7:</font>\n",
    "#### <font color='purple'>The Pareto principle states that for many outcomes roughly 80% of consequences come from 20% of the causes. Also known as 80/20 rule, in e-commerce simply means that most of your business, around 80%, likely comes from about 20% of your customers.Prove that the pareto principle applies to your store.</font>"
   ]
  },
  {
   "cell_type": "code",
   "execution_count": 25,
   "metadata": {},
   "outputs": [
    {
     "name": "stdout",
     "output_type": "stream",
     "text": [
      "Free the memory\n"
     ]
    }
   ],
   "source": [
    "dataset=pd.DataFrame()\n",
    "dataset_oct=pd.DataFrame()\n",
    "dataset_nov=pd.DataFrame()\n",
    "gc.collect()\n",
    "print(\"Free the memory\")"
   ]
  },
  {
   "cell_type": "code",
   "execution_count": 25,
   "metadata": {},
   "outputs": [],
   "source": [
    "dataset_oct = pd.read_csv('2019-Oct.csv', header='infer',usecols=[\"event_type\",\"price\",\"user_id\"])\n",
    "dataset_nov = pd.read_csv('2019-Nov.csv', header='infer',usecols=[\"event_type\",\"price\",\"user_id\"])\n",
    "dataset_oct = dataset_oct[dataset_oct[\"event_type\"]==\"purchase\"]\n",
    "dataset_nov = dataset_nov[dataset_nov[\"event_type\"]==\"purchase\"]\n",
    "dataset= pd.concat([dataset_oct,dataset_nov])"
   ]
  },
  {
   "cell_type": "code",
   "execution_count": 26,
   "metadata": {},
   "outputs": [
    {
     "name": "stdout",
     "output_type": "stream",
     "text": [
      "Percentage of the total revenues coming from the top 20% customers:\n"
     ]
    },
    {
     "data": {
      "text/plain": [
       "72.10145671344638"
      ]
     },
     "execution_count": 26,
     "metadata": {},
     "output_type": "execute_result"
    }
   ],
   "source": [
    "# We want to prove that the top 20% of our customers are responsible for at least the 80% of our total revenues\n",
    "# We calculate the total revenues\n",
    "tot_revenues=dataset[\"price\"].sum()\n",
    "\n",
    "# We calculate the total number of costumers\n",
    "customers=dataset[\"user_id\"].nunique()\n",
    "\n",
    "# We calculate the revenues coming from the top 20% of customers\n",
    "top20_revenues = dataset.groupby(\"user_id\").price.sum().sort_values(ascending=False).head(customers//5).sum()\n",
    "\n",
    "print(\"Percentage of the total revenues coming from the top 20% customers:\")\n",
    "(top20_revenues/tot_revenues)*100"
   ]
  },
  {
   "cell_type": "code",
   "execution_count": null,
   "metadata": {},
   "outputs": [],
   "source": []
  }
 ],
 "metadata": {
  "kernelspec": {
   "display_name": "Python 3",
   "language": "python",
   "name": "python3"
  },
  "language_info": {
   "codemirror_mode": {
    "name": "ipython",
    "version": 3
   },
   "file_extension": ".py",
   "mimetype": "text/x-python",
   "name": "python",
   "nbconvert_exporter": "python",
   "pygments_lexer": "ipython3",
   "version": "3.8.3"
  }
 },
 "nbformat": 4,
 "nbformat_minor": 4
}
